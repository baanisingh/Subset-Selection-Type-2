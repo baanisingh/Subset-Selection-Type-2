{
  "nbformat": 4,
  "nbformat_minor": 0,
  "metadata": {
    "colab": {
      "provenance": [],
      "authorship_tag": "ABX9TyOzWPxM9o02+aw0nX9EoMld",
      "include_colab_link": true
    },
    "kernelspec": {
      "name": "python3",
      "display_name": "Python 3"
    },
    "language_info": {
      "name": "python"
    }
  },
  "cells": [
    {
      "cell_type": "markdown",
      "metadata": {
        "id": "view-in-github",
        "colab_type": "text"
      },
      "source": [
        "<a href=\"https://colab.research.google.com/github/baanisingh/Subset-Selection-Type-2/blob/main/Subset_Selection_Type_2.ipynb\" target=\"_parent\"><img src=\"https://colab.research.google.com/assets/colab-badge.svg\" alt=\"Open In Colab\"/></a>"
      ]
    },
    {
      "cell_type": "markdown",
      "source": [
        "# **Subset Selection Problem Type 2**"
      ],
      "metadata": {
        "id": "ubY3ydYEHF0l"
      }
    },
    {
      "cell_type": "markdown",
      "source": [
        "Find all the subsets from a set of numbers whose sum is zero\n",
        "\n",
        "# **Constraint: Subset size must be 3 to 6 only **\n",
        "\n",
        "Set={-12, -3, -6, 7, 2, -2, 6, 3, 9, -7, -5, -8, 1, 11, -9, -4}"
      ],
      "metadata": {
        "id": "koyylzsyHMJ6"
      }
    },
    {
      "cell_type": "code",
      "execution_count": 3,
      "metadata": {
        "colab": {
          "base_uri": "https://localhost:8080/"
        },
        "id": "UeyOiCqEHDki",
        "outputId": "7e6e7f40-c289-4254-d30f-d6b3c02ebf42"
      },
      "outputs": [
        {
          "output_type": "stream",
          "name": "stdout",
          "text": [
            "(-8, -3, 2, 9)\n",
            "(-12, -6, 1, 6, 11)\n",
            "(-12, -5, 6, 11)\n",
            "(-6, -5, 1, 3, 7)\n",
            "(-7, -5, 3, 9)\n",
            "(-12, 1, 2, 9)\n",
            "(-9, -2, 1, 3, 7)\n",
            "(-5, -4, -3, 1, 11)\n",
            "(-8, -5, -4, 6, 11)\n",
            "(-8, -6, 3, 11)\n",
            "(-5, 2, 3)\n",
            "(-6, -2, 1, 7)\n",
            "(-9, -6, -3, -2, 9, 11)\n",
            "(-6, -4, 3, 7)\n",
            "(-8, -4, -2, 1, 6, 7)\n",
            "(-6, -4, 1, 2, 7)\n",
            "(-9, -4, -3, 7, 9)\n",
            "(-8, -5, -2, 2, 6, 7)\n",
            "(-12, 1, 11)\n",
            "(-7, -2, 9)\n",
            "(-5, -4, 3, 6)\n",
            "(-12, -9, 1, 3, 6, 11)\n",
            "(-9, -3, 1, 11)\n",
            "(-7, -5, 2, 3, 7)\n",
            "(-6, -5, 2, 9)\n",
            "(-8, 1, 7)\n",
            "(-8, 2, 6)\n",
            "(-7, -6, -2, 1, 3, 11)\n",
            "(-7, -4, 11)\n",
            "(-9, -6, -3, 7, 11)\n",
            "(-9, -2, 11)\n",
            "(-6, -5, -3, 1, 2, 11)\n",
            "(-6, -3, 9)\n",
            "(-4, -3, -2, 3, 6)\n",
            "(-9, -7, -3, 1, 7, 11)\n",
            "(-6, -4, -2, 3, 9)\n",
            "(-4, -2, 6)\n",
            "(-12, -7, -3, 6, 7, 9)\n",
            "(-8, -7, -5, 9, 11)\n",
            "(-12, -4, -2, 1, 6, 11)\n",
            "(-7, -6, -3, 2, 3, 11)\n",
            "(-6, -5, -4, 6, 9)\n",
            "(-6, -5, 11)\n",
            "(-8, -5, 2, 11)\n",
            "(-8, -6, -4, -2, 9, 11)\n",
            "(-5, -4, -2, 2, 3, 6)\n",
            "(-7, -5, -4, 7, 9)\n",
            "(-4, -3, 7)\n",
            "(-12, -7, -2, 3, 7, 11)\n",
            "(-7, -6, -5, 7, 11)\n",
            "(-8, -3, 11)\n",
            "(-8, -5, -3, 7, 9)\n",
            "(-12, -8, -2, 6, 7, 9)\n",
            "(-3, 1, 2)\n",
            "(-8, -6, -4, 1, 6, 11)\n",
            "\n",
            "Total Sets:  55\n"
          ]
        },
        {
          "output_type": "stream",
          "name": "stderr",
          "text": [
            "<ipython-input-3-279e00f93d00>:13: DeprecationWarning: Sampling from a set deprecated\n",
            "since Python 3.9 and will be removed in a subsequent version.\n",
            "  nums=r.sample(Set,SetSize)\n"
          ]
        }
      ],
      "source": [
        "#We are importing the libraries and setting the parameters\n",
        "import random as r\n",
        "\n",
        "Set=set([-12, -3, -6, 7, 2, -2, 6, 3, 9, -7, -5, -8, 1, 11, -9, -4])\n",
        "SetLB=3\n",
        "SetUB=6\n",
        "Result=set()\n",
        "iterations=2000\n",
        "\n",
        "#This is the start of the program\n",
        "for i in range(iterations):\n",
        "    SetSize=r.randint(SetLB,SetUB)\n",
        "    nums=r.sample(Set,SetSize)\n",
        "    nums.sort()\n",
        "    if(sum(nums)==0):\n",
        "      Result.add(tuple(nums))\n",
        "\n",
        "for r in Result:\n",
        "  print(r)\n",
        "print(\"\\nTotal Sets: \",len(Result))"
      ]
    }
  ]
}